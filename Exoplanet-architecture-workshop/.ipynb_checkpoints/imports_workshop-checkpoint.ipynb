{
 "cells": [
  {
   "cell_type": "code",
   "execution_count": 3,
   "metadata": {
    "collapsed": false,
    "pycharm": {
     "name": "#%%\n"
    }
   },
   "outputs": [],
   "source": [
    "import pyvo\n",
    "import numpy\n",
    "from tabulate import tabulate\n",
    "import pandas\n",
    "import warnings\n",
    "warnings.simplefilter(action=\"ignore\", category=FutureWarning)\n",
    "warnings.filterwarnings(\"ignore\", category=UserWarning)\n",
    "\n",
    "import math\n",
    "service = pyvo.dal.TAPService(\"http://voparis-tap-planeto.obspm.fr/tap\")\n",
    "import seaborn\n",
    "\n",
    "# the tool for database querring\n",
    "import uio\n",
    "\n",
    "\n",
    "from astropy import units\n",
    "from astropy import constants\n",
    "from astropy.visualization import quantity_support\n",
    "from matplotlib_inline.backend_inline import set_matplotlib_formats\n",
    "from matplotlib import cm\n",
    "import matplotlib.colors\n",
    "import matplotlib.ticker\n",
    "from scipy import stats # For in-built method to get PCC\n",
    "import scipy.optimize\n",
    "from scipy import interpolate\n",
    "from scipy.interpolate import InterpolatedUnivariateSpline\n",
    "from scipy.integrate import trapz\n",
    "from scipy.stats import norm\n",
    "\n",
    "import matplotlib.pyplot as plt\n",
    "from matplotlib.colors import ListedColormap\n",
    "from matplotlib.colors import LogNorm\n",
    "\n",
    "from collections import OrderedDict\n",
    "from matplotlib.lines import Line2D\n",
    "import itertools\n",
    "from collections import OrderedDict\n",
    "from functools import partial\n",
    "import matplotlib.ticker as mticker\n",
    "from cycler import cycler\n",
    "mass_coeff = constants.M_jup / constants.M_earth\n",
    "radius_coeff = constants.R_jup / constants.R_earth\n",
    "disc_coeff = constants.M_jup/constants.M_sun\n",
    "\n",
    "quantity_support()\n",
    "set_matplotlib_formats('svg')\n",
    "\n",
    "pandas.options.mode.use_inf_as_na = True\n"
   ]
  }
 ],
 "metadata": {
  "kernelspec": {
   "display_name": "Python 3",
   "language": "python",
   "name": "python3"
  },
  "language_info": {
   "codemirror_mode": {
    "name": "ipython",
    "version": 3
   },
   "file_extension": ".py",
   "mimetype": "text/x-python",
   "name": "python",
   "nbconvert_exporter": "python",
   "pygments_lexer": "ipython3",
   "version": "3.11.3"
  }
 },
 "nbformat": 4,
 "nbformat_minor": 0
}
